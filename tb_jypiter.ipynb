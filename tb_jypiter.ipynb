{
 "cells": [
  {
   "cell_type": "code",
   "execution_count": 2,
   "id": "1a71d162-f2a5-478f-815d-d89d2ecedbe8",
   "metadata": {
    "tags": []
   },
   "outputs": [],
   "source": [
    "import pandas as pd\n",
    "import matplotlib.pyplot as plt\n",
    "import seaborn as sns"
   ]
  },
  {
   "cell_type": "code",
   "execution_count": 65,
   "id": "1950715b-d534-4d23-a992-dccec61ddf64",
   "metadata": {},
   "outputs": [],
   "source": [
    "df = pd.read_csv('fb_final.csv')"
   ]
  },
  {
   "cell_type": "markdown",
   "id": "239bda71-45e6-4851-8cdb-130d8ebe5b22",
   "metadata": {
    "tags": []
   },
   "source": [
    "**Data understanding**"
   ]
  },
  {
   "cell_type": "code",
   "execution_count": 66,
   "id": "caffd91d-151c-4c2a-87fa-f11641aa4dca",
   "metadata": {
    "tags": []
   },
   "outputs": [
    {
     "data": {
      "text/plain": [
       "(587117, 14)"
      ]
     },
     "execution_count": 66,
     "metadata": {},
     "output_type": "execute_result"
    }
   ],
   "source": [
    "df.shape"
   ]
  },
  {
   "cell_type": "code",
   "execution_count": 67,
   "id": "d8d5dafb-b170-472b-ad28-340622d3e4b1",
   "metadata": {
    "tags": []
   },
   "outputs": [
    {
     "data": {
      "text/html": [
       "<div>\n",
       "<style scoped>\n",
       "    .dataframe tbody tr th:only-of-type {\n",
       "        vertical-align: middle;\n",
       "    }\n",
       "\n",
       "    .dataframe tbody tr th {\n",
       "        vertical-align: top;\n",
       "    }\n",
       "\n",
       "    .dataframe thead th {\n",
       "        text-align: right;\n",
       "    }\n",
       "</style>\n",
       "<table border=\"1\" class=\"dataframe\">\n",
       "  <thead>\n",
       "    <tr style=\"text-align: right;\">\n",
       "      <th></th>\n",
       "      <th>id</th>\n",
       "      <th>status</th>\n",
       "      <th>trip_date</th>\n",
       "      <th>booking_month</th>\n",
       "      <th>days</th>\n",
       "      <th>trip_season</th>\n",
       "      <th>commission</th>\n",
       "      <th>decline_cancel_reason</th>\n",
       "      <th>decline_cancel_note</th>\n",
       "      <th>location</th>\n",
       "      <th>country</th>\n",
       "      <th>rating_equipment</th>\n",
       "      <th>rating_captain</th>\n",
       "      <th>rating_overall</th>\n",
       "    </tr>\n",
       "  </thead>\n",
       "  <tbody>\n",
       "    <tr>\n",
       "      <th>0</th>\n",
       "      <td>326039</td>\n",
       "      <td>done</td>\n",
       "      <td>2020-01-01</td>\n",
       "      <td>1</td>\n",
       "      <td>1</td>\n",
       "      <td>Winter</td>\n",
       "      <td>120.00</td>\n",
       "      <td>NaN</td>\n",
       "      <td>NaN</td>\n",
       "      <td>Orlando</td>\n",
       "      <td>United States</td>\n",
       "      <td>5.0</td>\n",
       "      <td>5.0</td>\n",
       "      <td>5.0</td>\n",
       "    </tr>\n",
       "    <tr>\n",
       "      <th>1</th>\n",
       "      <td>326040</td>\n",
       "      <td>canceled</td>\n",
       "      <td>2020-03-15</td>\n",
       "      <td>3</td>\n",
       "      <td>1</td>\n",
       "      <td>Spring</td>\n",
       "      <td>399.60</td>\n",
       "      <td>notEnoughPeople</td>\n",
       "      <td>People in the group pulled out</td>\n",
       "      <td>Herradura</td>\n",
       "      <td>Costa Rica</td>\n",
       "      <td>NaN</td>\n",
       "      <td>NaN</td>\n",
       "      <td>NaN</td>\n",
       "    </tr>\n",
       "    <tr>\n",
       "      <th>2</th>\n",
       "      <td>326041</td>\n",
       "      <td>canceled</td>\n",
       "      <td>2020-03-18</td>\n",
       "      <td>3</td>\n",
       "      <td>1</td>\n",
       "      <td>Spring</td>\n",
       "      <td>224.00</td>\n",
       "      <td>notEnoughPeople</td>\n",
       "      <td>People in the group pulled out</td>\n",
       "      <td>Herradura</td>\n",
       "      <td>Costa Rica</td>\n",
       "      <td>NaN</td>\n",
       "      <td>NaN</td>\n",
       "      <td>NaN</td>\n",
       "    </tr>\n",
       "    <tr>\n",
       "      <th>3</th>\n",
       "      <td>326042</td>\n",
       "      <td>declined</td>\n",
       "      <td>2020-01-04</td>\n",
       "      <td>1</td>\n",
       "      <td>1</td>\n",
       "      <td>Winter</td>\n",
       "      <td>164.24</td>\n",
       "      <td>notEnoughPeople</td>\n",
       "      <td>Captain can’t accomodate capacity</td>\n",
       "      <td>Melbourne</td>\n",
       "      <td>Australia</td>\n",
       "      <td>NaN</td>\n",
       "      <td>NaN</td>\n",
       "      <td>NaN</td>\n",
       "    </tr>\n",
       "    <tr>\n",
       "      <th>4</th>\n",
       "      <td>326044</td>\n",
       "      <td>canceled</td>\n",
       "      <td>2020-01-13</td>\n",
       "      <td>1</td>\n",
       "      <td>1</td>\n",
       "      <td>Winter</td>\n",
       "      <td>250.00</td>\n",
       "      <td>other</td>\n",
       "      <td>Personal</td>\n",
       "      <td>Playa Del Carmen</td>\n",
       "      <td>Mexico</td>\n",
       "      <td>NaN</td>\n",
       "      <td>NaN</td>\n",
       "      <td>NaN</td>\n",
       "    </tr>\n",
       "    <tr>\n",
       "      <th>5</th>\n",
       "      <td>326045</td>\n",
       "      <td>declined</td>\n",
       "      <td>2020-01-01</td>\n",
       "      <td>1</td>\n",
       "      <td>1</td>\n",
       "      <td>Winter</td>\n",
       "      <td>714.00</td>\n",
       "      <td>captainUnresponsive</td>\n",
       "      <td>Captain unresponsive</td>\n",
       "      <td>San Diego</td>\n",
       "      <td>United States</td>\n",
       "      <td>NaN</td>\n",
       "      <td>NaN</td>\n",
       "      <td>NaN</td>\n",
       "    </tr>\n",
       "    <tr>\n",
       "      <th>6</th>\n",
       "      <td>326047</td>\n",
       "      <td>declined</td>\n",
       "      <td>2020-01-01</td>\n",
       "      <td>1</td>\n",
       "      <td>1</td>\n",
       "      <td>Winter</td>\n",
       "      <td>270.00</td>\n",
       "      <td>captainUnresponsive</td>\n",
       "      <td>Captain unresponsive</td>\n",
       "      <td>Bluffton</td>\n",
       "      <td>United States</td>\n",
       "      <td>NaN</td>\n",
       "      <td>NaN</td>\n",
       "      <td>NaN</td>\n",
       "    </tr>\n",
       "    <tr>\n",
       "      <th>7</th>\n",
       "      <td>326048</td>\n",
       "      <td>done</td>\n",
       "      <td>2020-01-31</td>\n",
       "      <td>1</td>\n",
       "      <td>1</td>\n",
       "      <td>Winter</td>\n",
       "      <td>280.00</td>\n",
       "      <td>NaN</td>\n",
       "      <td>NaN</td>\n",
       "      <td>Coral Gables</td>\n",
       "      <td>United States</td>\n",
       "      <td>5.0</td>\n",
       "      <td>5.0</td>\n",
       "      <td>5.0</td>\n",
       "    </tr>\n",
       "    <tr>\n",
       "      <th>8</th>\n",
       "      <td>326049</td>\n",
       "      <td>declined</td>\n",
       "      <td>2020-01-02</td>\n",
       "      <td>1</td>\n",
       "      <td>1</td>\n",
       "      <td>Winter</td>\n",
       "      <td>480.00</td>\n",
       "      <td>badWeather</td>\n",
       "      <td>Bad weather</td>\n",
       "      <td>Cortez</td>\n",
       "      <td>United States</td>\n",
       "      <td>NaN</td>\n",
       "      <td>NaN</td>\n",
       "      <td>NaN</td>\n",
       "    </tr>\n",
       "    <tr>\n",
       "      <th>9</th>\n",
       "      <td>326050</td>\n",
       "      <td>canceled</td>\n",
       "      <td>2020-06-13</td>\n",
       "      <td>6</td>\n",
       "      <td>1</td>\n",
       "      <td>Summer</td>\n",
       "      <td>525.00</td>\n",
       "      <td>other</td>\n",
       "      <td>Personal</td>\n",
       "      <td>San Diego</td>\n",
       "      <td>United States</td>\n",
       "      <td>NaN</td>\n",
       "      <td>NaN</td>\n",
       "      <td>NaN</td>\n",
       "    </tr>\n",
       "  </tbody>\n",
       "</table>\n",
       "</div>"
      ],
      "text/plain": [
       "       id    status   trip_date  booking_month  days trip_season  commission  \\\n",
       "0  326039      done  2020-01-01              1     1      Winter      120.00   \n",
       "1  326040  canceled  2020-03-15              3     1      Spring      399.60   \n",
       "2  326041  canceled  2020-03-18              3     1      Spring      224.00   \n",
       "3  326042  declined  2020-01-04              1     1      Winter      164.24   \n",
       "4  326044  canceled  2020-01-13              1     1      Winter      250.00   \n",
       "5  326045  declined  2020-01-01              1     1      Winter      714.00   \n",
       "6  326047  declined  2020-01-01              1     1      Winter      270.00   \n",
       "7  326048      done  2020-01-31              1     1      Winter      280.00   \n",
       "8  326049  declined  2020-01-02              1     1      Winter      480.00   \n",
       "9  326050  canceled  2020-06-13              6     1      Summer      525.00   \n",
       "\n",
       "  decline_cancel_reason                decline_cancel_note          location  \\\n",
       "0                   NaN                                NaN           Orlando   \n",
       "1       notEnoughPeople     People in the group pulled out         Herradura   \n",
       "2       notEnoughPeople     People in the group pulled out         Herradura   \n",
       "3       notEnoughPeople  Captain can’t accomodate capacity         Melbourne   \n",
       "4                 other                           Personal  Playa Del Carmen   \n",
       "5   captainUnresponsive               Captain unresponsive         San Diego   \n",
       "6   captainUnresponsive               Captain unresponsive          Bluffton   \n",
       "7                   NaN                                NaN      Coral Gables   \n",
       "8            badWeather                        Bad weather            Cortez   \n",
       "9                 other                           Personal         San Diego   \n",
       "\n",
       "         country  rating_equipment  rating_captain  rating_overall  \n",
       "0  United States               5.0             5.0             5.0  \n",
       "1     Costa Rica               NaN             NaN             NaN  \n",
       "2     Costa Rica               NaN             NaN             NaN  \n",
       "3      Australia               NaN             NaN             NaN  \n",
       "4         Mexico               NaN             NaN             NaN  \n",
       "5  United States               NaN             NaN             NaN  \n",
       "6  United States               NaN             NaN             NaN  \n",
       "7  United States               5.0             5.0             5.0  \n",
       "8  United States               NaN             NaN             NaN  \n",
       "9  United States               NaN             NaN             NaN  "
      ]
     },
     "execution_count": 67,
     "metadata": {},
     "output_type": "execute_result"
    }
   ],
   "source": [
    "df.head(10)"
   ]
  },
  {
   "cell_type": "code",
   "execution_count": 69,
   "id": "b5e9a7b5-c2bd-4f6f-9f45-30694b282548",
   "metadata": {
    "tags": []
   },
   "outputs": [
    {
     "data": {
      "text/plain": [
       "id                         int64\n",
       "status                    object\n",
       "trip_date                 object\n",
       "booking_month              int64\n",
       "days                       int64\n",
       "trip_season               object\n",
       "commission               float64\n",
       "decline_cancel_reason     object\n",
       "decline_cancel_note       object\n",
       "location                  object\n",
       "country                   object\n",
       "rating_equipment         float64\n",
       "rating_captain           float64\n",
       "rating_overall           float64\n",
       "dtype: object"
      ]
     },
     "execution_count": 69,
     "metadata": {},
     "output_type": "execute_result"
    }
   ],
   "source": [
    "df.dtypes"
   ]
  },
  {
   "cell_type": "code",
   "execution_count": 70,
   "id": "79811eed-5699-4804-9d97-57824b5113fc",
   "metadata": {
    "tags": []
   },
   "outputs": [
    {
     "data": {
      "text/html": [
       "<div>\n",
       "<style scoped>\n",
       "    .dataframe tbody tr th:only-of-type {\n",
       "        vertical-align: middle;\n",
       "    }\n",
       "\n",
       "    .dataframe tbody tr th {\n",
       "        vertical-align: top;\n",
       "    }\n",
       "\n",
       "    .dataframe thead th {\n",
       "        text-align: right;\n",
       "    }\n",
       "</style>\n",
       "<table border=\"1\" class=\"dataframe\">\n",
       "  <thead>\n",
       "    <tr style=\"text-align: right;\">\n",
       "      <th></th>\n",
       "      <th>id</th>\n",
       "      <th>booking_month</th>\n",
       "      <th>days</th>\n",
       "      <th>commission</th>\n",
       "      <th>rating_equipment</th>\n",
       "      <th>rating_captain</th>\n",
       "      <th>rating_overall</th>\n",
       "    </tr>\n",
       "  </thead>\n",
       "  <tbody>\n",
       "    <tr>\n",
       "      <th>count</th>\n",
       "      <td>5.871170e+05</td>\n",
       "      <td>587117.000000</td>\n",
       "      <td>587117.000000</td>\n",
       "      <td>587117.000000</td>\n",
       "      <td>226419.000000</td>\n",
       "      <td>226419.000000</td>\n",
       "      <td>226419.000000</td>\n",
       "    </tr>\n",
       "    <tr>\n",
       "      <th>mean</th>\n",
       "      <td>6.844171e+05</td>\n",
       "      <td>6.609916</td>\n",
       "      <td>1.006144</td>\n",
       "      <td>405.315706</td>\n",
       "      <td>4.806319</td>\n",
       "      <td>4.881958</td>\n",
       "      <td>4.788896</td>\n",
       "    </tr>\n",
       "    <tr>\n",
       "      <th>std</th>\n",
       "      <td>2.032373e+05</td>\n",
       "      <td>2.695204</td>\n",
       "      <td>0.097810</td>\n",
       "      <td>278.805843</td>\n",
       "      <td>0.566285</td>\n",
       "      <td>0.511586</td>\n",
       "      <td>0.653977</td>\n",
       "    </tr>\n",
       "    <tr>\n",
       "      <th>min</th>\n",
       "      <td>3.260390e+05</td>\n",
       "      <td>1.000000</td>\n",
       "      <td>1.000000</td>\n",
       "      <td>0.000000</td>\n",
       "      <td>1.000000</td>\n",
       "      <td>1.000000</td>\n",
       "      <td>1.000000</td>\n",
       "    </tr>\n",
       "    <tr>\n",
       "      <th>25%</th>\n",
       "      <td>5.107940e+05</td>\n",
       "      <td>5.000000</td>\n",
       "      <td>1.000000</td>\n",
       "      <td>226.000000</td>\n",
       "      <td>5.000000</td>\n",
       "      <td>5.000000</td>\n",
       "      <td>5.000000</td>\n",
       "    </tr>\n",
       "    <tr>\n",
       "      <th>50%</th>\n",
       "      <td>6.853020e+05</td>\n",
       "      <td>7.000000</td>\n",
       "      <td>1.000000</td>\n",
       "      <td>340.000000</td>\n",
       "      <td>5.000000</td>\n",
       "      <td>5.000000</td>\n",
       "      <td>5.000000</td>\n",
       "    </tr>\n",
       "    <tr>\n",
       "      <th>75%</th>\n",
       "      <td>8.596290e+05</td>\n",
       "      <td>8.000000</td>\n",
       "      <td>1.000000</td>\n",
       "      <td>500.000000</td>\n",
       "      <td>5.000000</td>\n",
       "      <td>5.000000</td>\n",
       "      <td>5.000000</td>\n",
       "    </tr>\n",
       "    <tr>\n",
       "      <th>max</th>\n",
       "      <td>1.036335e+06</td>\n",
       "      <td>12.000000</td>\n",
       "      <td>10.000000</td>\n",
       "      <td>12964.000000</td>\n",
       "      <td>5.000000</td>\n",
       "      <td>5.000000</td>\n",
       "      <td>5.000000</td>\n",
       "    </tr>\n",
       "  </tbody>\n",
       "</table>\n",
       "</div>"
      ],
      "text/plain": [
       "                 id  booking_month           days     commission  \\\n",
       "count  5.871170e+05  587117.000000  587117.000000  587117.000000   \n",
       "mean   6.844171e+05       6.609916       1.006144     405.315706   \n",
       "std    2.032373e+05       2.695204       0.097810     278.805843   \n",
       "min    3.260390e+05       1.000000       1.000000       0.000000   \n",
       "25%    5.107940e+05       5.000000       1.000000     226.000000   \n",
       "50%    6.853020e+05       7.000000       1.000000     340.000000   \n",
       "75%    8.596290e+05       8.000000       1.000000     500.000000   \n",
       "max    1.036335e+06      12.000000      10.000000   12964.000000   \n",
       "\n",
       "       rating_equipment  rating_captain  rating_overall  \n",
       "count     226419.000000   226419.000000   226419.000000  \n",
       "mean           4.806319        4.881958        4.788896  \n",
       "std            0.566285        0.511586        0.653977  \n",
       "min            1.000000        1.000000        1.000000  \n",
       "25%            5.000000        5.000000        5.000000  \n",
       "50%            5.000000        5.000000        5.000000  \n",
       "75%            5.000000        5.000000        5.000000  \n",
       "max            5.000000        5.000000        5.000000  "
      ]
     },
     "execution_count": 70,
     "metadata": {},
     "output_type": "execute_result"
    }
   ],
   "source": [
    "df.describe()"
   ]
  },
  {
   "cell_type": "markdown",
   "id": "3e94c7fe-661b-4510-8e85-31c7cae2a929",
   "metadata": {
    "tags": []
   },
   "source": [
    "**Data preparation**"
   ]
  },
  {
   "cell_type": "code",
   "execution_count": 71,
   "id": "5cb1be2a-87b6-4c02-aa4e-c58233f25ce1",
   "metadata": {
    "tags": []
   },
   "outputs": [],
   "source": [
    "df = df[['id', 'status', 'trip_date', 'booking_month', \n",
    "    # 'days', 'trip_season',\n",
    "       'commission', \n",
    "    # 'decline_cancel_reason', 'decline_cancel_note',\n",
    "       'location', 'country'\n",
    "    #  ,'rating_equipment', 'rating_captain','rating_overall'\n",
    "        ]].copy()"
   ]
  },
  {
   "cell_type": "code",
   "execution_count": 72,
   "id": "85e4313e-62c1-4787-b62a-191c0ecbe5aa",
   "metadata": {
    "tags": []
   },
   "outputs": [
    {
     "data": {
      "text/plain": [
       "(587117, 7)"
      ]
     },
     "execution_count": 72,
     "metadata": {},
     "output_type": "execute_result"
    }
   ],
   "source": [
    "df.shape"
   ]
  },
  {
   "cell_type": "code",
   "execution_count": 73,
   "id": "d39b3687-8bb8-44cf-9ce8-86fc9234d769",
   "metadata": {
    "tags": []
   },
   "outputs": [],
   "source": [
    "df['trip_date'] = pd.to_datetime(df['trip_date'])"
   ]
  },
  {
   "cell_type": "code",
   "execution_count": 74,
   "id": "213cddae-6978-4a4d-9e19-73666ee304ae",
   "metadata": {
    "tags": []
   },
   "outputs": [],
   "source": [
    "df = df.rename(columns={'id':'Booking_ID',\n",
    "                   'status':'Status',\n",
    "                   'trip_date':'Trip_Date',\n",
    "                   'booking_month':'Booking_Month',\n",
    "                   'commission':'Commission',\n",
    "                   'location':'Location',\n",
    "                   'country':'Country'})"
   ]
  },
  {
   "cell_type": "code",
   "execution_count": 75,
   "id": "d97ff2b6-5503-4057-bf5b-1efdc2e97f85",
   "metadata": {
    "tags": []
   },
   "outputs": [],
   "source": [
    "df = df.drop(df[(df['Status'] == 'canceled') | (df['Status'] == 'declined')].index)"
   ]
  },
  {
   "cell_type": "code",
   "execution_count": 76,
   "id": "d350d195-64e8-493a-ab5b-c9dc4f050817",
   "metadata": {
    "tags": []
   },
   "outputs": [
    {
     "data": {
      "text/plain": [
       "Booking_ID                int64\n",
       "Status                   object\n",
       "Trip_Date        datetime64[ns]\n",
       "Booking_Month             int64\n",
       "Commission              float64\n",
       "Location                 object\n",
       "Country                  object\n",
       "dtype: object"
      ]
     },
     "execution_count": 76,
     "metadata": {},
     "output_type": "execute_result"
    }
   ],
   "source": [
    "df.dtypes"
   ]
  },
  {
   "cell_type": "code",
   "execution_count": 77,
   "id": "cc7ed640-c57d-4655-9601-a8cb207d31c5",
   "metadata": {
    "tags": []
   },
   "outputs": [
    {
     "data": {
      "text/plain": [
       "Booking_ID       0\n",
       "Status           0\n",
       "Trip_Date        0\n",
       "Booking_Month    0\n",
       "Commission       0\n",
       "Location         0\n",
       "Country          0\n",
       "dtype: int64"
      ]
     },
     "execution_count": 77,
     "metadata": {},
     "output_type": "execute_result"
    }
   ],
   "source": [
    "df.isna().sum()"
   ]
  },
  {
   "cell_type": "code",
   "execution_count": 78,
   "id": "5da746e0-dc31-4f19-966d-ac4ccff3c61c",
   "metadata": {
    "tags": []
   },
   "outputs": [
    {
     "data": {
      "text/plain": [
       "0"
      ]
     },
     "execution_count": 78,
     "metadata": {},
     "output_type": "execute_result"
    }
   ],
   "source": [
    "df.duplicated().sum()"
   ]
  },
  {
   "cell_type": "code",
   "execution_count": 79,
   "id": "b2204c4f-47ff-4a16-94a4-61974774844a",
   "metadata": {
    "tags": []
   },
   "outputs": [
    {
     "data": {
      "text/plain": [
       "(382178, 7)"
      ]
     },
     "execution_count": 79,
     "metadata": {},
     "output_type": "execute_result"
    }
   ],
   "source": [
    "df.shape"
   ]
  },
  {
   "cell_type": "markdown",
   "id": "ceb379e7-6e79-4ca8-a803-e28471067360",
   "metadata": {
    "tags": []
   },
   "source": [
    "**Plotting**"
   ]
  },
  {
   "cell_type": "code",
   "execution_count": 80,
   "id": "dbda1368-fe8b-41ee-b0b5-3c7c8fe6d037",
   "metadata": {
    "tags": []
   },
   "outputs": [
    {
     "data": {
      "text/plain": [
       "Text(0, 0.5, 'Bookings')"
      ]
     },
     "execution_count": 80,
     "metadata": {},
     "output_type": "execute_result"
    },
    {
     "data": {
      "image/png": "[encoded data removed]",
      "text/plain": [
       "<Figure size 640x480 with 1 Axes>"
      ]
     },
     "metadata": {},
     "output_type": "display_data"
    }
   ],
   "source": [
    "ax = df['Country'].value_counts().head(10).plot(kind = 'bar', title = 'Total Bookings per Country')\n",
    "ax.set_xlabel('Country')\n",
    "ax.set_ylabel('Bookings')"
   ]
  }
 ],
 "metadata": {
  "kernelspec": {
   "display_name": "Python 3 (ipykernel)",
   "language": "python",
   "name": "python3"
  },
  "language_info": {
   "codemirror_mode": {
    "name": "ipython",
    "version": 3
   },
   "file_extension": ".py",
   "mimetype": "text/x-python",
   "name": "python",
   "nbconvert_exporter": "python",
   "pygments_lexer": "ipython3",
   "version": "3.11.3"
  }
 },
 "nbformat": 4,
 "nbformat_minor": 5
}
